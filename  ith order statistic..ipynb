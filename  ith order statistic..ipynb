{
  "nbformat": 4,
  "nbformat_minor": 0,
  "metadata": {
    "colab": {
      "provenance": [],
      "authorship_tag": "ABX9TyNnxH6x+YkuIoeuTrcWEKdK",
      "include_colab_link": true
    },
    "kernelspec": {
      "name": "python3",
      "display_name": "Python 3"
    },
    "language_info": {
      "name": "python"
    }
  },
  "cells": [
    {
      "cell_type": "markdown",
      "metadata": {
        "id": "view-in-github",
        "colab_type": "text"
      },
      "source": [
        "<a href=\"https://colab.research.google.com/github/AbhishekKurra/Hands-on---8/blob/main/%20ith%20order%20statistic..ipynb\" target=\"_parent\"><img src=\"https://colab.research.google.com/assets/colab-badge.svg\" alt=\"Open In Colab\"/></a>"
      ]
    },
    {
      "cell_type": "code",
      "execution_count": 19,
      "metadata": {
        "colab": {
          "base_uri": "https://localhost:8080/"
        },
        "id": "UVYCQbaDB_Ot",
        "outputId": "1adddf53-ee25-4622-dd25-70c75213b345"
      },
      "outputs": [
        {
          "output_type": "stream",
          "name": "stdout",
          "text": [
            "Original array: [10, 3, 1, 8, 2, 9, 5, 7, 9, 12]\n",
            "Sorted array: [1, 2, 3, 5, 7, 8, 9, 9, 10, 12]\n",
            "4th order statistic (element at index 3 in sorted order): 5\n"
          ]
        }
      ],
      "source": [
        "import random\n",
        "\n",
        "def partition(arr, low, high):\n",
        "    pivot = arr[high]\n",
        "    i = low - 1\n",
        "    for j in range(low, high):\n",
        "        if arr[j] <= pivot:\n",
        "            i += 1\n",
        "            arr[i], arr[j] = arr[j], arr[i]\n",
        "    arr[i + 1], arr[high] = arr[high], arr[i + 1]\n",
        "    return i + 1\n",
        "\n",
        "def quickselect(arr, low, high, k):\n",
        "\n",
        "    if low <= high:\n",
        "        pivot_index = partition(arr, low, high)\n",
        "        if pivot_index == k:\n",
        "            return arr[pivot_index]\n",
        "        elif pivot_index > k:\n",
        "            return quickselect(arr, low, pivot_index - 1, k)\n",
        "        else:\n",
        "            return quickselect(arr, pivot_index + 1, high, k)\n",
        "\n",
        "def quicksort(arr):\n",
        "    if len(arr) <= 1:\n",
        "        return arr\n",
        "    pivot = arr[len(arr) // 2]\n",
        "    left = [x for x in arr if x < pivot]\n",
        "    middle = [x for x in arr if x == pivot]\n",
        "    right = [x for x in arr if x > pivot]\n",
        "    return quicksort(left) + middle + quicksort(right)\n",
        "\n",
        "\n",
        "arr = [10, 3, 1, 8, 2, 9, 5, 7, 9, 12]\n",
        "k = 3\n",
        "\n",
        "\n",
        "arr_copy = arr.copy()\n",
        "kth_smallest = quickselect(arr_copy, 0, len(arr) - 1, k)\n",
        "\n",
        "\n",
        "sorted_arr = quicksort(arr)\n",
        "\n",
        "print(f\"Original array: {arr}\")\n",
        "print(f\"Sorted array: {sorted_arr}\")\n",
        "print(f\"{k+1}th order statistic (element at index {k} in sorted order): {kth_smallest}\")"
      ]
    }
  ]
}