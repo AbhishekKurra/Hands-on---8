{
  "nbformat": 4,
  "nbformat_minor": 0,
  "metadata": {
    "colab": {
      "provenance": [],
      "authorship_tag": "ABX9TyOkwIk5w2t+ssYTO0luHdf6",
      "include_colab_link": true
    },
    "kernelspec": {
      "name": "python3",
      "display_name": "Python 3"
    },
    "language_info": {
      "name": "python"
    }
  },
  "cells": [
    {
      "cell_type": "markdown",
      "metadata": {
        "id": "view-in-github",
        "colab_type": "text"
      },
      "source": [
        "<a href=\"https://colab.research.google.com/github/AbhishekKurra/Hands-on---8/blob/main/ithorderstatistic.ipynb\" target=\"_parent\"><img src=\"https://colab.research.google.com/assets/colab-badge.svg\" alt=\"Open In Colab\"/></a>"
      ]
    },
    {
      "cell_type": "code",
      "execution_count": 6,
      "metadata": {
        "colab": {
          "base_uri": "https://localhost:8080/"
        },
        "id": "UVYCQbaDB_Ot",
        "outputId": "51520d52-2c1e-4253-cba1-292380d2f285"
      },
      "outputs": [
        {
          "output_type": "stream",
          "name": "stdout",
          "text": [
            "The 4th smallest element is: 6\n"
          ]
        }
      ],
      "source": [
        "import random\n",
        "\n",
        "def partition(arr, low, high):\n",
        "    pivot = arr[high]\n",
        "    i = low - 1\n",
        "\n",
        "    for j in range(low, high):\n",
        "        if arr[j] <= pivot:\n",
        "            i += 1\n",
        "            arr[i], arr[j] = arr[j], arr[i]\n",
        "\n",
        "    arr[i + 1], arr[high] = arr[high], arr[i + 1]\n",
        "    return i + 1\n",
        "\n",
        "def quickselect(arr, low, high, k):\n",
        "    if low <= high:\n",
        "        pivot_index = partition(arr, low, high)\n",
        "\n",
        "        if pivot_index == k:\n",
        "            return arr[pivot_index]\n",
        "        elif pivot_index > k:\n",
        "            return quickselect(arr, low, pivot_index - 1, k)\n",
        "        else:\n",
        "            return quickselect(arr, pivot_index + 1, high, k)\n",
        "\n",
        "def ith_order_statistic(arr, i):\n",
        "    if i < 0 or i >= len(arr):\n",
        "        return None\n",
        "    return quickselect(arr, 0, len(arr) - 1, i)\n",
        "\n",
        "\n",
        "arr = [10, 1, 4, 6, 17, 21, 3]\n",
        "i = 3\n",
        "result = ith_order_statistic(arr, i)\n",
        "print(f\"The {i+1}th smallest element is: {result}\")\n"
      ]
    }
  ]
}